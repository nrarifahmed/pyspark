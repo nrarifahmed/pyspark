{
  "nbformat": 4,
  "nbformat_minor": 0,
  "metadata": {
    "colab": {
      "name": "groupBy_PS",
      "provenance": [],
      "collapsed_sections": [],
      "authorship_tag": "ABX9TyMWFxaSsj61OZKLbUnsSKZR",
      "include_colab_link": true
    },
    "kernelspec": {
      "name": "python3",
      "display_name": "Python 3"
    },
    "language_info": {
      "name": "python"
    },
    "accelerator": "GPU"
  },
  "cells": [
    {
      "cell_type": "markdown",
      "metadata": {
        "id": "view-in-github",
        "colab_type": "text"
      },
      "source": [
        "<a href=\"https://colab.research.google.com/github/nrarifahmed/pyspark/blob/main/groupBy_PS.ipynb\" target=\"_parent\"><img src=\"https://colab.research.google.com/assets/colab-badge.svg\" alt=\"Open In Colab\"/></a>"
      ]
    },
    {
      "cell_type": "code",
      "metadata": {
        "colab": {
          "base_uri": "https://localhost:8080/"
        },
        "id": "ilz_38b3FvCQ",
        "outputId": "b12ebc50-9e24-4f80-d8da-4364fc6b221d"
      },
      "source": [
        " !nvidia-smi"
      ],
      "execution_count": 1,
      "outputs": [
        {
          "output_type": "stream",
          "text": [
            "Fri May 21 04:50:08 2021       \n",
            "+-----------------------------------------------------------------------------+\n",
            "| NVIDIA-SMI 465.19.01    Driver Version: 460.32.03    CUDA Version: 11.2     |\n",
            "|-------------------------------+----------------------+----------------------+\n",
            "| GPU  Name        Persistence-M| Bus-Id        Disp.A | Volatile Uncorr. ECC |\n",
            "| Fan  Temp  Perf  Pwr:Usage/Cap|         Memory-Usage | GPU-Util  Compute M. |\n",
            "|                               |                      |               MIG M. |\n",
            "|===============================+======================+======================|\n",
            "|   0  Tesla T4            Off  | 00000000:00:04.0 Off |                    0 |\n",
            "| N/A   45C    P8     9W /  70W |      0MiB / 15109MiB |      0%      Default |\n",
            "|                               |                      |                  N/A |\n",
            "+-------------------------------+----------------------+----------------------+\n",
            "                                                                               \n",
            "+-----------------------------------------------------------------------------+\n",
            "| Processes:                                                                  |\n",
            "|  GPU   GI   CI        PID   Type   Process name                  GPU Memory |\n",
            "|        ID   ID                                                   Usage      |\n",
            "|=============================================================================|\n",
            "|  No running processes found                                                 |\n",
            "+-----------------------------------------------------------------------------+\n"
          ],
          "name": "stdout"
        }
      ]
    },
    {
      "cell_type": "markdown",
      "metadata": {
        "id": "7oIkCnHukU_Z"
      },
      "source": [
        "In this Video We will Cover,\n",
        "PySpark Dataframe,\n",
        "Reading The Dataset,\n",
        "Checking the Datatypes of the Column(Schema),\n",
        "Selecting Columns And Indexing,\n",
        "Check Describe option similar to Pandas,\n",
        "Adding Columns,\n",
        "Dropping columns,\n",
        "Renaming Columns,"
      ]
    },
    {
      "cell_type": "code",
      "metadata": {
        "colab": {
          "base_uri": "https://localhost:8080/"
        },
        "id": "lWAU2G8akijP",
        "outputId": "f30ea3c3-216b-4a2c-8ba2-683682ef45fd"
      },
      "source": [
        "!pip install pyspark"
      ],
      "execution_count": 2,
      "outputs": [
        {
          "output_type": "stream",
          "text": [
            "Collecting pyspark\n",
            "\u001b[?25l  Downloading https://files.pythonhosted.org/packages/45/b0/9d6860891ab14a39d4bddf80ba26ce51c2f9dc4805e5c6978ac0472c120a/pyspark-3.1.1.tar.gz (212.3MB)\n",
            "\u001b[K     |████████████████████████████████| 212.3MB 77kB/s \n",
            "\u001b[?25hCollecting py4j==0.10.9\n",
            "\u001b[?25l  Downloading https://files.pythonhosted.org/packages/9e/b6/6a4fb90cd235dc8e265a6a2067f2a2c99f0d91787f06aca4bcf7c23f3f80/py4j-0.10.9-py2.py3-none-any.whl (198kB)\n",
            "\u001b[K     |████████████████████████████████| 204kB 22.4MB/s \n",
            "\u001b[?25hBuilding wheels for collected packages: pyspark\n",
            "  Building wheel for pyspark (setup.py) ... \u001b[?25l\u001b[?25hdone\n",
            "  Created wheel for pyspark: filename=pyspark-3.1.1-py2.py3-none-any.whl size=212767604 sha256=837d782a47761d1c2010fc179e5e93852f1e4431b33a35695720838c7c63575a\n",
            "  Stored in directory: /root/.cache/pip/wheels/0b/90/c0/01de724414ef122bd05f056541fb6a0ecf47c7ca655f8b3c0f\n",
            "Successfully built pyspark\n",
            "Installing collected packages: py4j, pyspark\n",
            "Successfully installed py4j-0.10.9 pyspark-3.1.1\n"
          ],
          "name": "stdout"
        }
      ]
    },
    {
      "cell_type": "code",
      "metadata": {
        "id": "p5atpBXN3JOv"
      },
      "source": [
        "from google.colab import drive"
      ],
      "execution_count": 3,
      "outputs": []
    },
    {
      "cell_type": "code",
      "metadata": {
        "colab": {
          "base_uri": "https://localhost:8080/"
        },
        "id": "MQhr_46N7YFD",
        "outputId": "4ccc6cae-e966-4949-c00a-f0a82bd1410a"
      },
      "source": [
        "drive.mount('/content/drive/')\n"
      ],
      "execution_count": 4,
      "outputs": [
        {
          "output_type": "stream",
          "text": [
            "Mounted at /content/drive/\n"
          ],
          "name": "stdout"
        }
      ]
    },
    {
      "cell_type": "code",
      "metadata": {
        "id": "CUtk8Bv1ki0j"
      },
      "source": [
        "from pyspark.sql import SparkSession"
      ],
      "execution_count": 5,
      "outputs": []
    },
    {
      "cell_type": "code",
      "metadata": {
        "id": "3d0UTiYdkYfB"
      },
      "source": [
        "spark=SparkSession.builder.appName('aggregate').getOrCreate()\n"
      ],
      "execution_count": 7,
      "outputs": []
    },
    {
      "cell_type": "code",
      "metadata": {
        "id": "OzKx__Sb2yO3"
      },
      "source": [
        "df_pyspark=spark.read.option('header','true').csv('/content/drive/My Drive/Colab Notebooks/pyspark/test3.csv',inferSchema=True)\n",
        "df_pyspark_1=spark.read.option('header','true').csv('/content/drive/My Drive/Colab Notebooks/pyspark/test3.csv',inferSchema=True)\n"
      ],
      "execution_count": 44,
      "outputs": []
    },
    {
      "cell_type": "code",
      "metadata": {
        "id": "PyqnJCFh2ySS",
        "colab": {
          "base_uri": "https://localhost:8080/"
        },
        "outputId": "b464ed5d-4d2a-4d6d-ed25-3577066a6c8c"
      },
      "source": [
        "df_pyspark.printSchema()"
      ],
      "execution_count": 45,
      "outputs": [
        {
          "output_type": "stream",
          "text": [
            "root\n",
            " |-- Name: string (nullable = true)\n",
            " |-- Departments: string (nullable = true)\n",
            " |-- salary: integer (nullable = true)\n",
            "\n"
          ],
          "name": "stdout"
        }
      ]
    },
    {
      "cell_type": "code",
      "metadata": {
        "colab": {
          "base_uri": "https://localhost:8080/"
        },
        "id": "kT2Lrd7q_HxU",
        "outputId": "e405272c-da25-4d29-a767-281c479384e9"
      },
      "source": [
        "df_pyspark.show()"
      ],
      "execution_count": 10,
      "outputs": [
        {
          "output_type": "stream",
          "text": [
            "+---------+------------+------+\n",
            "|     Name| Departments|salary|\n",
            "+---------+------------+------+\n",
            "|    Krish|Data Science| 10000|\n",
            "|    Krish|         IOT|  5000|\n",
            "|   Mahesh|    Big Data|  4000|\n",
            "|    Krish|    Big Data|  4000|\n",
            "|   Mahesh|Data Science|  3000|\n",
            "|Sudhanshu|Data Science| 20000|\n",
            "|Sudhanshu|         IOT| 10000|\n",
            "|Sudhanshu|    Big Data|  5000|\n",
            "|    Sunny|Data Science| 10000|\n",
            "|    Sunny|    Big Data|  2000|\n",
            "+---------+------------+------+\n",
            "\n"
          ],
          "name": "stdout"
        }
      ]
    },
    {
      "cell_type": "code",
      "metadata": {
        "colab": {
          "base_uri": "https://localhost:8080/"
        },
        "id": "ew2Gbdn7_IIf",
        "outputId": "faaecf06-cd70-4de8-e1d8-fa50755e3126"
      },
      "source": [
        "df_pyspark.describe().show()"
      ],
      "execution_count": 46,
      "outputs": [
        {
          "output_type": "stream",
          "text": [
            "+-------+-----+-----------+-----------------+\n",
            "|summary| Name|Departments|           salary|\n",
            "+-------+-----+-----------+-----------------+\n",
            "|  count|   10|         10|               10|\n",
            "|   mean| null|       null|           7300.0|\n",
            "| stddev| null|       null|5396.500923952689|\n",
            "|    min|Krish|   Big Data|             2000|\n",
            "|    max|Sunny|        IOT|            20000|\n",
            "+-------+-----+-----------+-----------------+\n",
            "\n"
          ],
          "name": "stdout"
        }
      ]
    },
    {
      "cell_type": "code",
      "metadata": {
        "id": "yX1mXCs92yWB",
        "colab": {
          "base_uri": "https://localhost:8080/"
        },
        "outputId": "d0e0adea-8196-4c6f-a747-c6a650d89a1a"
      },
      "source": [
        "df_pyspark.filter(\"salary>=10000\").select('Name','Departments','salary').sort('Name','salary').show()"
      ],
      "execution_count": 47,
      "outputs": [
        {
          "output_type": "stream",
          "text": [
            "+---------+------------+------+\n",
            "|     Name| Departments|salary|\n",
            "+---------+------------+------+\n",
            "|    Krish|Data Science| 10000|\n",
            "|Sudhanshu|         IOT| 10000|\n",
            "|Sudhanshu|Data Science| 20000|\n",
            "|    Sunny|Data Science| 10000|\n",
            "+---------+------------+------+\n",
            "\n"
          ],
          "name": "stdout"
        }
      ]
    },
    {
      "cell_type": "code",
      "metadata": {
        "colab": {
          "base_uri": "https://localhost:8080/"
        },
        "id": "Vby1iVTLSJvQ",
        "outputId": "73c367bf-43e2-41a0-8245-18a8e333a6e9"
      },
      "source": [
        "df_pyspark.groupby('Departments').max('salary').show()"
      ],
      "execution_count": 29,
      "outputs": [
        {
          "output_type": "stream",
          "text": [
            "+------------+-----------+\n",
            "| Departments|max(salary)|\n",
            "+------------+-----------+\n",
            "|         IOT|      10000|\n",
            "|    Big Data|       5000|\n",
            "|Data Science|      20000|\n",
            "+------------+-----------+\n",
            "\n"
          ],
          "name": "stdout"
        }
      ]
    },
    {
      "cell_type": "code",
      "metadata": {
        "colab": {
          "base_uri": "https://localhost:8080/"
        },
        "id": "O9xya6IQSJ1j",
        "outputId": "9d4cefa9-e7e9-40e0-e19f-a0b8f202cfc0"
      },
      "source": [
        "df_pyspark.select('salary').show()"
      ],
      "execution_count": 42,
      "outputs": [
        {
          "output_type": "stream",
          "text": [
            "+------+\n",
            "|salary|\n",
            "+------+\n",
            "| 10000|\n",
            "|  5000|\n",
            "|  4000|\n",
            "|  4000|\n",
            "|  3000|\n",
            "| 20000|\n",
            "| 10000|\n",
            "|  5000|\n",
            "| 10000|\n",
            "|  2000|\n",
            "+------+\n",
            "\n"
          ],
          "name": "stdout"
        }
      ]
    },
    {
      "cell_type": "code",
      "metadata": {
        "colab": {
          "base_uri": "https://localhost:8080/"
        },
        "id": "z1TpeN-F_n6C",
        "outputId": "5b57f418-11f7-4d40-d003-7fa956ebb0cf"
      },
      "source": [
        "## Groupby\n",
        "### Grouped to find the maximum salary\n",
        "df_pyspark.groupBy('Name').sum().show()"
      ],
      "execution_count": null,
      "outputs": [
        {
          "output_type": "stream",
          "text": [
            "+---------+-----------+\n",
            "|     Name|sum(salary)|\n",
            "+---------+-----------+\n",
            "|Sudhanshu|      35000|\n",
            "|    Sunny|      12000|\n",
            "|    Krish|      19000|\n",
            "|   Mahesh|       7000|\n",
            "+---------+-----------+\n",
            "\n"
          ],
          "name": "stdout"
        }
      ]
    },
    {
      "cell_type": "code",
      "metadata": {
        "id": "soN4YCF1_n9w",
        "colab": {
          "base_uri": "https://localhost:8080/"
        },
        "outputId": "987511f5-831c-4e6d-bfd4-50abac53c96d"
      },
      "source": [
        "## Groupby\n",
        "### Grouped to find the maximum salary\n",
        "df_pyspark.groupBy('Name').max('salary').show()"
      ],
      "execution_count": null,
      "outputs": [
        {
          "output_type": "stream",
          "text": [
            "+---------+-----------+\n",
            "|     Name|max(salary)|\n",
            "+---------+-----------+\n",
            "|Sudhanshu|      20000|\n",
            "|    Sunny|      10000|\n",
            "|    Krish|      10000|\n",
            "|   Mahesh|       4000|\n",
            "+---------+-----------+\n",
            "\n"
          ],
          "name": "stdout"
        }
      ]
    },
    {
      "cell_type": "code",
      "metadata": {
        "id": "UAOFr6Ey_oCJ",
        "colab": {
          "base_uri": "https://localhost:8080/"
        },
        "outputId": "1867c4c2-183a-4546-d3c0-59ed17410656"
      },
      "source": [
        "## Groupby\n",
        "### Grouped to find the maximum salary based on Departments\n",
        "df_pyspark.groupBy('Departments').max('salary').show()"
      ],
      "execution_count": null,
      "outputs": [
        {
          "output_type": "stream",
          "text": [
            "+------------+-----------+\n",
            "| Departments|max(salary)|\n",
            "+------------+-----------+\n",
            "|         IOT|      10000|\n",
            "|    Big Data|       5000|\n",
            "|Data Science|      20000|\n",
            "+------------+-----------+\n",
            "\n"
          ],
          "name": "stdout"
        }
      ]
    },
    {
      "cell_type": "code",
      "metadata": {
        "colab": {
          "base_uri": "https://localhost:8080/"
        },
        "id": "V5c2Sg2Qp6BO",
        "outputId": "27eae4cc-3b35-4636-a6d2-1bcd11344b52"
      },
      "source": [
        "## Groupby\n",
        "### Grouped to find the maximum salary based on Departments\n",
        "df_pyspark.groupBy('Departments').avg('salary').show()"
      ],
      "execution_count": null,
      "outputs": [
        {
          "output_type": "stream",
          "text": [
            "+------------+-----------+\n",
            "| Departments|avg(salary)|\n",
            "+------------+-----------+\n",
            "|         IOT|     7500.0|\n",
            "|    Big Data|     3750.0|\n",
            "|Data Science|    10750.0|\n",
            "+------------+-----------+\n",
            "\n"
          ],
          "name": "stdout"
        }
      ]
    },
    {
      "cell_type": "code",
      "metadata": {
        "colab": {
          "base_uri": "https://localhost:8080/"
        },
        "id": "W0uJ_w_EqKCZ",
        "outputId": "74cb392f-946e-4b77-81cb-9ee8f821f71c"
      },
      "source": [
        "## Groupby\n",
        "### Grouped to find the sum of  salary based on Departments\n",
        "df_pyspark.groupBy('Departments').sum('salary').show()"
      ],
      "execution_count": null,
      "outputs": [
        {
          "output_type": "stream",
          "text": [
            "+------------+-----------+\n",
            "| Departments|sum(salary)|\n",
            "+------------+-----------+\n",
            "|         IOT|      15000|\n",
            "|    Big Data|      15000|\n",
            "|Data Science|      43000|\n",
            "+------------+-----------+\n",
            "\n"
          ],
          "name": "stdout"
        }
      ]
    },
    {
      "cell_type": "code",
      "metadata": {
        "id": "vDF2zV02qklz",
        "colab": {
          "base_uri": "https://localhost:8080/"
        },
        "outputId": "1bcc9373-e19a-4275-9e5e-8baf38ddfea3"
      },
      "source": [
        "## Groupby\n",
        "### Grouped to find the MINIMUM salary based on Departments\n",
        "df_pyspark.groupBy('Departments').min('salary').show()"
      ],
      "execution_count": null,
      "outputs": [
        {
          "output_type": "stream",
          "text": [
            "+------------+-----------+\n",
            "| Departments|min(salary)|\n",
            "+------------+-----------+\n",
            "|         IOT|       5000|\n",
            "|    Big Data|       2000|\n",
            "|Data Science|       3000|\n",
            "+------------+-----------+\n",
            "\n"
          ],
          "name": "stdout"
        }
      ]
    },
    {
      "cell_type": "code",
      "metadata": {
        "colab": {
          "base_uri": "https://localhost:8080/"
        },
        "id": "8uTeCDy1czZT",
        "outputId": "903d4f23-2b57-4bb4-d5f0-fad01590a19f"
      },
      "source": [
        "## Join\n",
        "df_spark_join=df_pyspark.join(df_pyspark_1).sort(df_pyspark['Name'])\n",
        "df_spark_join.show()\n"
      ],
      "execution_count": 56,
      "outputs": [
        {
          "output_type": "stream",
          "text": [
            "+-----+------------+------+---------+------------+------+\n",
            "| Name| Departments|salary|     Name| Departments|salary|\n",
            "+-----+------------+------+---------+------------+------+\n",
            "|Krish|Data Science| 10000|    Krish|Data Science| 10000|\n",
            "|Krish|Data Science| 10000|    Krish|         IOT|  5000|\n",
            "|Krish|Data Science| 10000|   Mahesh|    Big Data|  4000|\n",
            "|Krish|Data Science| 10000|    Krish|    Big Data|  4000|\n",
            "|Krish|Data Science| 10000|   Mahesh|Data Science|  3000|\n",
            "|Krish|Data Science| 10000|Sudhanshu|Data Science| 20000|\n",
            "|Krish|Data Science| 10000|Sudhanshu|         IOT| 10000|\n",
            "|Krish|Data Science| 10000|Sudhanshu|    Big Data|  5000|\n",
            "|Krish|Data Science| 10000|    Sunny|Data Science| 10000|\n",
            "|Krish|Data Science| 10000|    Sunny|    Big Data|  2000|\n",
            "|Krish|         IOT|  5000|    Krish|Data Science| 10000|\n",
            "|Krish|         IOT|  5000|    Krish|         IOT|  5000|\n",
            "|Krish|         IOT|  5000|   Mahesh|    Big Data|  4000|\n",
            "|Krish|         IOT|  5000|    Krish|    Big Data|  4000|\n",
            "|Krish|         IOT|  5000|   Mahesh|Data Science|  3000|\n",
            "|Krish|         IOT|  5000|Sudhanshu|Data Science| 20000|\n",
            "|Krish|         IOT|  5000|Sudhanshu|         IOT| 10000|\n",
            "|Krish|         IOT|  5000|Sudhanshu|    Big Data|  5000|\n",
            "|Krish|         IOT|  5000|    Sunny|Data Science| 10000|\n",
            "|Krish|         IOT|  5000|    Sunny|    Big Data|  2000|\n",
            "+-----+------------+------+---------+------------+------+\n",
            "only showing top 20 rows\n",
            "\n"
          ],
          "name": "stdout"
        }
      ]
    },
    {
      "cell_type": "code",
      "metadata": {
        "id": "gsXQToupecjZ",
        "outputId": "1805ce02-0058-482f-d8fa-a05775c780bb",
        "colab": {
          "base_uri": "https://localhost:8080/"
        }
      },
      "source": [
        "## Union\n",
        "df_spark_union=df_pyspark.union(df_pyspark_1)\n",
        "df_spark_union.sort('Departments').show()"
      ],
      "execution_count": 62,
      "outputs": [
        {
          "output_type": "stream",
          "text": [
            "+---------+------------+------+\n",
            "|     Name| Departments|salary|\n",
            "+---------+------------+------+\n",
            "|   Mahesh|    Big Data|  4000|\n",
            "|    Krish|    Big Data|  4000|\n",
            "|Sudhanshu|    Big Data|  5000|\n",
            "|Sudhanshu|    Big Data|  5000|\n",
            "|    Sunny|    Big Data|  2000|\n",
            "|    Sunny|    Big Data|  2000|\n",
            "|   Mahesh|    Big Data|  4000|\n",
            "|    Krish|    Big Data|  4000|\n",
            "|    Sunny|Data Science| 10000|\n",
            "|   Mahesh|Data Science|  3000|\n",
            "|Sudhanshu|Data Science| 20000|\n",
            "|Sudhanshu|Data Science| 20000|\n",
            "|    Krish|Data Science| 10000|\n",
            "|   Mahesh|Data Science|  3000|\n",
            "|    Sunny|Data Science| 10000|\n",
            "|    Krish|Data Science| 10000|\n",
            "|    Krish|         IOT|  5000|\n",
            "|Sudhanshu|         IOT| 10000|\n",
            "|Sudhanshu|         IOT| 10000|\n",
            "|    Krish|         IOT|  5000|\n",
            "+---------+------------+------+\n",
            "\n"
          ],
          "name": "stdout"
        }
      ]
    },
    {
      "cell_type": "code",
      "metadata": {
        "id": "WqoVGhnLecuj"
      },
      "source": [
        ""
      ],
      "execution_count": null,
      "outputs": []
    }
  ]
}